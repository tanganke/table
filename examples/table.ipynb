{
 "cells": [
  {
   "cell_type": "code",
   "execution_count": 1,
   "metadata": {},
   "outputs": [],
   "source": [
    "from table import _, table, group\n",
    "import numpy as np"
   ]
  },
  {
   "cell_type": "markdown",
   "metadata": {},
   "source": [
    "## table"
   ]
  },
  {
   "cell_type": "code",
   "execution_count": 2,
   "metadata": {
    "scrolled": true
   },
   "outputs": [
    {
     "name": "stdout",
     "output_type": "stream",
     "text": [
      "(0, 0)\n",
      "(0, 1)\n",
      "(0, 2)\n",
      "(1, 0)\n",
      "(1, 1)\n",
      "(1, 2)\n"
     ]
    }
   ],
   "source": [
    "for i in table(2,3):\n",
    "    print(i)"
   ]
  },
  {
   "cell_type": "code",
   "execution_count": 3,
   "metadata": {},
   "outputs": [
    {
     "name": "stdout",
     "output_type": "stream",
     "text": [
      "(1, 3.0, 0)\n",
      "(1, 3.0, 1)\n",
      "(1, 3.0, 2)\n",
      "(1, 2.5, 0)\n",
      "(1, 2.5, 1)\n",
      "(1, 2.5, 2)\n",
      "(2, 3.0, 0)\n",
      "(2, 3.0, 1)\n",
      "(2, 3.0, 2)\n",
      "(2, 2.5, 0)\n",
      "(2, 2.5, 1)\n",
      "(2, 2.5, 2)\n"
     ]
    }
   ],
   "source": [
    "for i in table((1,3,1),(3,2,-0.5),3):\n",
    "    print(i)"
   ]
  },
  {
   "cell_type": "code",
   "execution_count": 4,
   "metadata": {},
   "outputs": [
    {
     "name": "stdout",
     "output_type": "stream",
     "text": [
      "(0, 0)\n",
      "(0, 1)\n",
      "(1, 1)\n",
      "(1, 2)\n",
      "(2, 2)\n",
      "(2, 3)\n"
     ]
    }
   ],
   "source": [
    "for i in table(('x',3),('y',_.x,_.x+2)):\n",
    "    print(i)"
   ]
  },
  {
   "cell_type": "code",
   "execution_count": 5,
   "metadata": {},
   "outputs": [],
   "source": [
    "for i in table(0,0,0,1):\n",
    "    print(i)\n",
    "    \n",
    "for i in table(('x',3),('y',_.x,_.x-1),('z', _.x, _.y -5, 0.5)):\n",
    "    print(i)"
   ]
  },
  {
   "cell_type": "code",
   "execution_count": 6,
   "metadata": {},
   "outputs": [
    {
     "name": "stdout",
     "output_type": "stream",
     "text": [
      "0\n",
      "1\n",
      "3\n",
      "4\n",
      "5\n",
      "6\n",
      "7\n",
      "8\n",
      "9\n"
     ]
    }
   ],
   "source": [
    "it = iter(table(10))\n",
    "for (x,) in it:\n",
    "    if x==2:\n",
    "        continue\n",
    "    print(x)"
   ]
  },
  {
   "cell_type": "code",
   "execution_count": 11,
   "metadata": {},
   "outputs": [
    {
     "name": "stdout",
     "output_type": "stream",
     "text": [
      "(0, 0, 0)\n",
      "(0, 0, 1)\n",
      "(1, 0, 0)\n",
      "(1, 0, 1)\n",
      "(2, 0, 0)\n",
      "(2, 0, 1)\n"
     ]
    }
   ],
   "source": [
    "it = iter(table(3,5,5))\n",
    "for x,y,z in it:\n",
    "    if z==2:\n",
    "        # break the second inner loop\n",
    "        if it.break_(-2):\n",
    "            continue\n",
    "        else:\n",
    "            break\n",
    "    print((x,y,z))"
   ]
  },
  {
   "cell_type": "markdown",
   "metadata": {},
   "source": [
    "## group"
   ]
  },
  {
   "cell_type": "code",
   "execution_count": 8,
   "metadata": {},
   "outputs": [
    {
     "data": {
      "text/plain": [
       "[[(0, 0, 0), (0, 0, 1), (0, 1, 0), (0, 1, 1), (0, 2, 0), (0, 2, 1)],\n",
       " [(1, 0, 0), (1, 0, 1), (1, 1, 0), (1, 1, 1), (1, 2, 0), (1, 2, 1)]]"
      ]
     },
     "execution_count": 8,
     "metadata": {},
     "output_type": "execute_result"
    }
   ],
   "source": [
    "group([i for i in table(2,3,2)],dim=2)"
   ]
  },
  {
   "cell_type": "code",
   "execution_count": 9,
   "metadata": {},
   "outputs": [
    {
     "data": {
      "text/plain": [
       "[[[(0, 0, 0), (0, 0, 1)], [(0, 1, 0), (0, 1, 1)], [(0, 2, 0), (0, 2, 1)]],\n",
       " [[(1, 0, 0), (1, 0, 1)], [(1, 1, 0), (1, 1, 1)], [(1, 2, 0), (1, 2, 1)]]]"
      ]
     },
     "execution_count": 9,
     "metadata": {},
     "output_type": "execute_result"
    }
   ],
   "source": [
    "group([i for i in table(2,3,2)],dim=3)"
   ]
  },
  {
   "cell_type": "code",
   "execution_count": null,
   "metadata": {},
   "outputs": [],
   "source": []
  }
 ],
 "metadata": {
  "kernelspec": {
   "display_name": "Python 3",
   "language": "python",
   "name": "python3"
  },
  "language_info": {
   "codemirror_mode": {
    "name": "ipython",
    "version": 3
   },
   "file_extension": ".py",
   "mimetype": "text/x-python",
   "name": "python",
   "nbconvert_exporter": "python",
   "pygments_lexer": "ipython3",
   "version": "3.8.5"
  }
 },
 "nbformat": 4,
 "nbformat_minor": 4
}
